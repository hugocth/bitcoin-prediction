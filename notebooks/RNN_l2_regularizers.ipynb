{
  "nbformat": 4,
  "nbformat_minor": 0,
  "metadata": {
    "colab": {
      "name": "RNN_l2_regularizers",
      "provenance": [],
      "collapsed_sections": []
    },
    "kernelspec": {
      "name": "python3",
      "display_name": "Python 3"
    },
    "language_info": {
      "name": "python"
    }
  },
  "cells": [
    {
      "cell_type": "code",
      "metadata": {
        "colab": {
          "base_uri": "https://localhost:8080/"
        },
        "id": "KoD9sXHrcwFZ",
        "outputId": "b065d4be-757f-41de-9c98-6ff7bbfecb60"
      },
      "source": [
        "\n",
        "import os\n",
        "\n",
        "import numpy as np\n",
        "import pandas as pd\n",
        "\n",
        "from matplotlib import pyplot as plt\n",
        "from tensorflow import keras\n",
        "from tensorflow.keras import layers\n",
        "from keras import regularizers\n",
        "\n",
        "from sklearn.preprocessing import MinMaxScaler\n",
        "from datetime import datetime\n",
        "\n",
        "import helper_functions as hf\n",
        "\n",
        "CURDIR = os.path.dirname(os.getcwd())\n",
        "DATADIR = os.path.join(CURDIR,  \"data\")\n",
        "FIGDIR = os.path.join(CURDIR,  \"figure\")\n",
        "%matplotlib inline\n",
        "\n",
        "df_blockchain = pd.read_csv(\"df_blockchain.csv\", delimiter=\",\")\n",
        "# get columns (You can add more columns to analyse results)\n",
        "columns = [\"market-price\"]\n",
        "dataset = df_blockchain[columns]\n",
        "scaler = MinMaxScaler(feature_range=(0, 1))\n",
        "dataset = scaler.fit_transform(dataset.values.reshape(-1,len(columns)))\n",
        "# split datatest into data_train, data_valid and data_test\n",
        "\n",
        "data_train = dataset[:3000]\n",
        "data_valid = dataset[3000:-30]\n",
        "data_test = dataset[-30:]\n",
        "rnn_size = 3\n",
        "def process_data(data, rnn_size, target_id=0, columns_size=len(columns)):\n",
        "    X = []\n",
        "    y = []\n",
        "    for i in range(len(data)-rnn_size):\n",
        "        X.append(data[i:i+rnn_size,:])\n",
        "        y.append(data[i+rnn_size,0])\n",
        "    return np.array(X).astype(np.float32).reshape((-1,rnn_size,columns_size)), np.array(y).astype(np.float32)\n",
        "    # process data for RNN\n",
        "X_train, y_train = process_data(data_train,rnn_size)\n",
        "X_val, y_val = process_data(data_valid,rnn_size)\n",
        "X_test, y_test = process_data(data_test,rnn_size)\n",
        "data_sets = [y_train, y_val, y_test]\n",
        "for set in data_sets :\n",
        "    set = set.reshape(len(set), 1)\n",
        "\n",
        "# LSTM + Dense model\n",
        "\n",
        "# Parameters\n",
        "\n",
        "h1 = 50 # Size of LSTM layer\n",
        "lambda2_list = np.logspace(-9,0,10)\n",
        "\n",
        "# Build the models\n",
        "\n",
        "model_names = ['lstm', 'stk_lstm', 'dd_lstm']\n",
        "model_list = []\n",
        "\n",
        "## LSTM model\n",
        "\n",
        "i = 1\n",
        "for lambda2 in lambda2_list : \n",
        "  print(i)\n",
        "  lstm = keras.Sequential()\n",
        "  lstm.add(layers.LSTM(h1, kernel_regularizer = regularizers.l2(lambda2), return_sequences=True))\n",
        "  lstm.add(layers.Dense(1, kernel_regularizer = regularizers.l2(lambda2), activation = 'relu'))\n",
        "  model_list.append(lstm)\n",
        "  i+=1\n",
        "\n",
        "## Stacked-LSTM model\n",
        "\n",
        "stk_lstm = keras.Sequential()\n",
        "stk_lstm.add(layers.LSTM(h1, kernel_regularizer = regularizers.l2(lambda2), return_sequences=True, input_shape = (X_train.shape[1], 1)))\n",
        "stk_lstm.add(layers.LSTM(h1, kernel_regularizer = regularizers.l2(lambda2), return_sequences=True))\n",
        "stk_lstm.add(layers.Dense(1, kernel_regularizer = regularizers.l2(lambda2), activation = 'relu'))\n",
        "model_list.append(stk_lstm)\n",
        "\n",
        "# ## Double-dense-LSTM model\n",
        "\n",
        "# dd_lstm = keras.Sequential()\n",
        "# dd_lstm.add(layers.LSTM(h1, kernel_regularizer = regularizers.l2(lambda2)))\n",
        "# dd_lstm.add(layers.Dense(10,kernel_regularizer = regularizers.l2(lambda2)))\n",
        "# dd_lstm.add(layers.Dense(1, kernel_regularizer = regularizers.l2(lambda2), activation = 'relu'))\n",
        "# model_list.append(stk_lstm)\n",
        "\n",
        "# ## Attention-LSTM model\n",
        "\n",
        "# att_lstm = keras.Sequential()\n",
        "# att_lstm.add(layers.LSTM(h1, kernel_regularizer = regularizers.l2(lambda2)))\n",
        "# att_lstm.add(layers.Attention())\n",
        "# model_list.append(att_lstm)"
      ],
      "execution_count": null,
      "outputs": [
        {
          "output_type": "stream",
          "text": [
            "1\n",
            "2\n",
            "3\n",
            "4\n",
            "5\n",
            "6\n",
            "7\n",
            "8\n",
            "9\n",
            "10\n"
          ],
          "name": "stdout"
        }
      ]
    },
    {
      "cell_type": "code",
      "metadata": {
        "colab": {
          "base_uri": "https://localhost:8080/"
        },
        "id": "YTRposaeczoU",
        "outputId": "48ea573f-eb87-42cc-e9e2-728c358920f8"
      },
      "source": [
        "# Influence of regularization\n",
        "\n",
        "rmse_train = []\n",
        "rmse_test = []\n",
        "N = 100\n",
        "i = 1\n",
        "\n",
        "for model in model_list:\n",
        "    print(f'Fit with {i}-th value of lambda2')\n",
        "    model.compile(loss = 'mean_squared_error', optimizer = keras.optimizers.Adam())\n",
        "    model.fit(X_train, y_train, batch_size = 32, epochs = 50, validation_data = (X_val, y_val), verbose = 0)\n",
        "\n",
        "    # RMSE for train\n",
        "    y = model.predict(X_train)\n",
        "    y_inverse = scaler.inverse_transform(np.concatenate([y.reshape(len(y),rnn_size), data_train[-len(y):,:]], axis=1))\n",
        "    y_train_inverse = scaler.inverse_transform(data_train.reshape(-1,len(columns)))[rnn_size:]\n",
        "    rmse = np.sqrt(np.mean((y_inverse - y_train_inverse)**2))\n",
        "    rmse_train.append(rmse)\n",
        "\n",
        "    # RMSE for test\n",
        "    y_pred = lstm.predict(X_test)\n",
        "    y_pred_inverse = scaler.inverse_transform(np.concatenate([y_pred.reshape(len(y_pred),rnn_size), data_test[-len(y_pred):,:]], axis=1))\n",
        "    y_test_inverse = scaler.inverse_transform(data_test.reshape(-1,len(columns)))[rnn_size:]\n",
        "    rmse_score = np.sqrt(np.mean((y_pred_inverse - y_test_inverse)**2))\n",
        "    rmse_test.append(rmse_score)\n",
        "\n",
        "    i+=1"
      ],
      "execution_count": null,
      "outputs": [
        {
          "output_type": "stream",
          "text": [
            "Fit with 1-th value of lambda2\n",
            "Fit with 2-th value of lambda2\n",
            "Fit with 3-th value of lambda2\n",
            "Fit with 4-th value of lambda2\n",
            "Fit with 5-th value of lambda2\n",
            "Fit with 6-th value of lambda2\n",
            "Fit with 7-th value of lambda2\n",
            "Fit with 8-th value of lambda2\n",
            "Fit with 9-th value of lambda2\n",
            "Fit with 10-th value of lambda2\n"
          ],
          "name": "stdout"
        }
      ]
    },
    {
      "cell_type": "code",
      "metadata": {
        "colab": {
          "base_uri": "https://localhost:8080/",
          "height": 283
        },
        "id": "taq8QsrZfMjU",
        "outputId": "b53d00c8-5cba-4764-829b-c00f46e3c654"
      },
      "source": [
        "lambda2_list\n",
        "# plot the graph\n",
        "\n",
        "rmse_train = np.array(rmse_train)\n",
        "rmse_test = np.array(rmse_test)\n",
        "\n",
        "plt.plot(lambda2_list, rmse_train, label='train set')\n",
        "plt.plot(lambda2_list, rmse_test, label='test set')\n",
        "plt.xlabel('lambda2')\n",
        "plt.xscale('log')\n",
        "plt.ylabel('RMSE ($)')\n",
        "plt.legend()\n",
        "plt.show()"
      ],
      "execution_count": null,
      "outputs": [
        {
          "output_type": "display_data",
          "data": {
            "image/png": "[encoded data removed]",
            "text/plain": [
              "<Figure size 432x288 with 1 Axes>"
            ]
          },
          "metadata": {
            "tags": [],
            "needs_background": "light"
          }
        }
      ]
    }
  ]
}