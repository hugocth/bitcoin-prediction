{
 "cells": [
  {
   "cell_type": "code",
   "execution_count": null,
   "metadata": {
    "colab": {
     "base_uri": "https://localhost:8080/"
    },
    "id": "I0v_FWvXRqeF",
    "outputId": "7053a4e2-3173-46c6-a060-c91b5f50cdfa"
   },
   "outputs": [
    {
     "name": "stderr",
     "output_type": "stream",
     "text": [
      "/usr/local/lib/python3.7/dist-packages/statsmodels/tools/_testing.py:19: FutureWarning: pandas.util.testing is deprecated. Use the functions in the public API at pandas.testing instead.\n",
      "  import pandas.util.testing as tm\n"
     ]
    }
   ],
   "source": [
    "\n",
    "import os\n",
    "\n",
    "import numpy as np\n",
    "import pandas as pd\n",
    "\n",
    "from matplotlib import pyplot as plt\n",
    "from tensorflow import keras\n",
    "from tensorflow.keras import layers\n",
    "from keras import regularizers\n",
    "\n",
    "from sklearn.preprocessing import MinMaxScaler\n",
    "from datetime import datetime\n",
    "\n",
    "import helper_functions as hf\n",
    "\n",
    "CURDIR = os.path.dirname(os.getcwd())\n",
    "DATADIR = os.path.join(CURDIR,  \"data\")\n",
    "FIGDIR = os.path.join(CURDIR,  \"figure\")\n",
    "%matplotlib inline"
   ]
  },
  {
   "cell_type": "code",
   "execution_count": null,
   "metadata": {
    "id": "PL9E9VDvRw2R"
   },
   "outputs": [],
   "source": [
    "df_blockchain = pd.read_csv(\"df_blockchain.csv\", delimiter=\",\")\n",
    "# get columns (You can add more columns to analyse results)\n",
    "columns = [\"market-price\"]\n",
    "dataset = df_blockchain[columns]\n",
    "scaler = MinMaxScaler(feature_range=(0, 1))\n",
    "dataset = scaler.fit_transform(dataset.values.reshape(-1,len(columns)))\n",
    "# split datatest into data_train, data_valid and data_test\n",
    "\n",
    "data_train = dataset[:3000]\n",
    "data_valid = dataset[3000:-30]\n",
    "data_test = dataset[-30:]\n",
    "rnn_size = 3\n",
    "def process_data(data, rnn_size, target_id=0, columns_size=len(columns)):\n",
    "    X = []\n",
    "    y = []\n",
    "    for i in range(len(data)-rnn_size):\n",
    "        X.append(data[i:i+rnn_size,:])\n",
    "        y.append(data[i+rnn_size,0])\n",
    "    return np.array(X).astype(np.float32).reshape((-1,rnn_size,columns_size)), np.array(y).astype(np.float32)\n",
    "    # process data for RNN\n",
    "X_train, y_train = process_data(data_train,rnn_size)\n",
    "X_val, y_val = process_data(data_valid,rnn_size)\n",
    "X_test, y_test = process_data(data_test,rnn_size)\n",
    "data_sets = [y_train, y_val, y_test]\n",
    "for set in data_sets :\n",
    "    set = set.reshape(len(set), 1)"
   ]
  },
  {
   "cell_type": "code",
   "execution_count": null,
   "metadata": {
    "id": "ru8R3swESBRL"
   },
   "outputs": [],
   "source": [
    "# LSTM + Dense model\n",
    "\n",
    "# Parameters\n",
    "\n",
    "h1 = 50 # Size of LSTM layer\n",
    "lambda2=0.00001\n",
    "\n",
    "# Build the models\n",
    "\n",
    "model_names = ['lstm', 'stk_lstm', 'dd_lstm']\n",
    "model_list = []\n",
    "\n",
    "## LSTM model\n",
    "\n",
    "lstm = keras.Sequential()\n",
    "lstm.add(layers.LSTM(h1, kernel_regularizer = regularizers.l2(lambda2), return_sequences=True, input_shape = (X_train.shape[1], 1)))\n",
    "lstm.add(layers.Dense(1, kernel_regularizer = regularizers.l2(lambda2), activation = 'relu'))\n",
    "model_list.append(lstm)\n",
    "\n",
    "## Stacked-LSTM model\n",
    "\n",
    "stk_lstm = keras.Sequential()\n",
    "stk_lstm.add(layers.LSTM(h1, kernel_regularizer = regularizers.l2(lambda2), return_sequences=True, input_shape = (X_train.shape[1], 1)))\n",
    "stk_lstm.add(layers.LSTM(h1, kernel_regularizer = regularizers.l2(lambda2), return_sequences=True))\n",
    "stk_lstm.add(layers.Dense(1, kernel_regularizer = regularizers.l2(lambda2), activation = 'relu'))\n",
    "model_list.append(stk_lstm)\n",
    "\n",
    "## Double-dense-LSTM model\n",
    "\n",
    "dd_lstm = keras.Sequential()\n",
    "dd_lstm.add(layers.LSTM(h1, kernel_regularizer = regularizers.l2(lambda2)))\n",
    "dd_lstm.add(layers.Dense(10,kernel_regularizer = regularizers.l2(lambda2)))\n",
    "dd_lstm.add(layers.Dense(1, kernel_regularizer = regularizers.l2(lambda2), activation = 'relu'))\n",
    "model_list.append(stk_lstm)\n",
    "\n",
    "# ## Attention-LSTM model\n",
    "\n",
    "# att_lstm = keras.Sequential()\n",
    "# att_lstm.add(layers.LSTM(h1, kernel_regularizer = regularizers.l2(lambda2)))\n",
    "# att_lstm.add(layers.Attention())\n",
    "# model_list.append(att_lstm)"
   ]
  },
  {
   "cell_type": "code",
   "execution_count": null,
   "metadata": {
    "colab": {
     "base_uri": "https://localhost:8080/"
    },
    "id": "23CpTPW6WWbA",
    "outputId": "ae741317-e96a-49e9-ab98-0df64af0121f"
   },
   "outputs": [
    {
     "name": "stdout",
     "output_type": "stream",
     "text": [
      "1-th iteration ...\n",
      "2-th iteration ...\n",
      "3-th iteration ...\n",
      "4-th iteration ...\n",
      "5-th iteration ...\n",
      "6-th iteration ...\n",
      "7-th iteration ...\n",
      "8-th iteration ...\n",
      "9-th iteration ...\n",
      "10-th iteration ...\n",
      "Time to compute (hh:mm:ss.ms) 0:21:57.083535\n"
     ]
    }
   ],
   "source": [
    "# N times fit of the models to determine a mean loss for each one\n",
    "\n",
    "N = 10\n",
    "\n",
    "start_time = datetime.now()\n",
    "\n",
    "rmse_list = []\n",
    "\n",
    "for i in range(N):\n",
    "  print(f'{i+1}-th iteration ...')\n",
    "  rmse_mod = []\n",
    "  for model in model_list: \n",
    "    # Fit the models\n",
    "    model.compile(loss = 'mean_squared_error', optimizer = keras.optimizers.Adam())\n",
    "    model.fit(X_train, y_train, batch_size = 32, epochs = 50, validation_data = (X_val, y_val), verbose = 0)\n",
    "\n",
    "    # Compute the RMSE\n",
    "    y_pred = model.predict(X_test)\n",
    "    y_pred_inverse = scaler.inverse_transform(np.concatenate([y_pred.reshape(len(y_pred),rnn_size), data_test[-len(y_pred):,:]], axis=1))\n",
    "    y_test_inverse = scaler.inverse_transform(data_test.reshape(-1,len(columns)))[rnn_size:]\n",
    "    rmse_score = np.sqrt(np.mean((y_pred_inverse - y_test_inverse)**2))\n",
    "    rmse_mod.append(rmse_score)\n",
    "  rmse_list.append(rmse_mod)\n",
    "\n",
    "rmse_list = np.array(rmse_list)\n",
    "\n",
    "print('Time to compute (hh:mm:ss.ms) {}'.format(datetime.now() - start_time))\n"
   ]
  },
  {
   "cell_type": "code",
   "execution_count": null,
   "metadata": {
    "colab": {
     "base_uri": "https://localhost:8080/",
     "height": 316
    },
    "id": "YgrScJ5LXWyf",
    "outputId": "a10ac238-fa87-465b-86e2-37ad4e342ba2"
   },
   "outputs": [
    {
     "name": "stdout",
     "output_type": "stream",
     "text": [
      "Mean RMSE for lstm =  RMS: 5286.25$\n",
      "Mean RMSE for stk_lstm =  RMS: 14011.97$\n",
      "Mean RMSE for dd_lstm =  RMS: 14140.23$\n"
     ]
    },
    {
     "data": {
      "image/png": "[encoded data removed]",
      "text/plain": [
       "<Figure size 432x288 with 1 Axes>"
      ]
     },
     "metadata": {
      "needs_background": "light",
      "tags": []
     },
     "output_type": "display_data"
    }
   ],
   "source": [
    "rmse_list\n",
    "\n",
    "for i in range(3) :\n",
    "  print(f'Mean RMSE for {model_names[i]} = ', 'RMS: {:.2f}$'.format(np.mean(rmse_list[:,i])))\n",
    "\n",
    "plt.plot(rmse_list[:,0], label='ltsm')\n",
    "plt.plot(rmse_list[:,1], label='stk_ltsm')\n",
    "plt.plot(rmse_list[:,2], label='dd_ltsm')\n",
    "plt.ylabel(\"RMSE ($)\")\n",
    "plt.legend()\n",
    "plt.show()"
   ]
  }
 ],
 "metadata": {
  "colab": {
   "collapsed_sections": [],
   "name": "RNN_model_comparison.ipynb",
   "provenance": []
  },
  "kernelspec": {
   "display_name": "Python 3",
   "language": "python",
   "name": "python3"
  },
  "language_info": {
   "codemirror_mode": {
    "name": "ipython",
    "version": 3
   },
   "file_extension": ".py",
   "mimetype": "text/x-python",
   "name": "python",
   "nbconvert_exporter": "python",
   "pygments_lexer": "ipython3",
   "version": "3.8.5"
  }
 },
 "nbformat": 4,
 "nbformat_minor": 1
}
